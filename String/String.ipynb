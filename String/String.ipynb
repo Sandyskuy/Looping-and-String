{
 "cells": [
  {
   "cell_type": "code",
   "execution_count": 2,
   "id": "3032c194",
   "metadata": {},
   "outputs": [
    {
     "name": "stdout",
     "output_type": "stream",
     "text": [
      "Masukkan nama anda: Sandy Aryasatya Zamroni\n",
      "jumlah huruf :  21\n",
      "jumlah vokal :  8\n",
      "jumlah konsonan :  13\n"
     ]
    }
   ],
   "source": [
    "nama = input(\"Masukkan nama anda: \") #menginputkan nama\n",
    "\n",
    "#untuk menghitung nama dengan awalan 0\n",
    "jumlah_huruf = 0\n",
    "jumlah_vokal = 0\n",
    "jumlah_konsonan = 0\n",
    "\n",
    "for huruf in nama: #perulangan\n",
    "    if huruf != '\\n' and huruf.isalpha(): #pengecekan\n",
    "        jumlah_huruf += 1 #menghitung jumlah huruf\n",
    "        if huruf in ['a', 'i', 'u', 'e', 'o', 'A','I', 'U', 'E', 'O']: #untuk mengecek vokal\n",
    "            jumlah_vokal += 1 #jika merupakan vokal maka akan dihitung jumlah vokal\n",
    "        else:\n",
    "            jumlah_konsonan += 1 #jika bukan akan dihitung jumlah konsonan\n",
    "\n",
    "#untuk mencetak hasil perhitungan\n",
    "print(\"jumlah huruf : \", jumlah_huruf)\n",
    "print(\"jumlah vokal : \", jumlah_vokal)\n",
    "print(\"jumlah konsonan : \", jumlah_konsonan)                     \n",
    "                     "
   ]
  },
  {
   "cell_type": "code",
   "execution_count": null,
   "id": "3b2e6ea8",
   "metadata": {},
   "outputs": [],
   "source": []
  }
 ],
 "metadata": {
  "kernelspec": {
   "display_name": "Python 3 (ipykernel)",
   "language": "python",
   "name": "python3"
  },
  "language_info": {
   "codemirror_mode": {
    "name": "ipython",
    "version": 3
   },
   "file_extension": ".py",
   "mimetype": "text/x-python",
   "name": "python",
   "nbconvert_exporter": "python",
   "pygments_lexer": "ipython3",
   "version": "3.9.12"
  }
 },
 "nbformat": 4,
 "nbformat_minor": 5
}
