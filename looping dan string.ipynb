{
 "cells": [
  {
   "cell_type": "code",
   "execution_count": 3,
   "id": "b710860e",
   "metadata": {},
   "outputs": [
    {
     "name": "stdout",
     "output_type": "stream",
     "text": [
      " \n",
      "0  \n",
      "0 1  \n",
      "0 1 1  \n",
      "0 1 1 2  \n",
      "0 1 1 2 3  \n",
      "0 1 1 2 3 5  \n",
      "0 1 1 2 3 5 8  \n",
      "0 1 1 2 3 5 8 13  \n",
      "0 1 1 2 3 5 8 13 21  \n",
      "0 1 1 2 3 5 8 13 21 34  \n"
     ]
    }
   ],
   "source": [
    "a = 0 #inisialisasi sesuai awalan fibonacci\n",
    "b = 1 #inisialisasi sesuai awalan fibonacci\n",
    "\n",
    "for i in range(11): #jumlah baris yang akan ditampilkan\n",
    "    for j in range(i): #mencetak bilangan pada setiap baris\n",
    "        if j == 0: #mengecek bilangan tersebut awal (a) atau bukan\n",
    "            print(a, end=\" \") #mencetak bilangan awal\n",
    "        elif j == 1: #jika bukan bilangan awal maka bilangan kedua (b) \n",
    "            print(b, end=\" \") #mencetak bilangan kedua\n",
    "        else:\n",
    "            c = a + b\n",
    "            a = b\n",
    "            b = c\n",
    "            #bilangan dicetak melalui rumus ini\n",
    "            print(c, end=\" \")\n",
    "    print(\" \")\n",
    "    #menghitung kembali dari awal\n",
    "    a = 0\n",
    "    b = 1"
   ]
  },
  {
   "cell_type": "code",
   "execution_count": null,
   "id": "9c4ea03c",
   "metadata": {},
   "outputs": [],
   "source": []
  },
  {
   "cell_type": "code",
   "execution_count": null,
   "id": "2b524f3b",
   "metadata": {},
   "outputs": [],
   "source": [
    "\n",
    "        "
   ]
  },
  {
   "cell_type": "code",
   "execution_count": null,
   "id": "a939d192",
   "metadata": {},
   "outputs": [],
   "source": []
  }
 ],
 "metadata": {
  "kernelspec": {
   "display_name": "Python 3 (ipykernel)",
   "language": "python",
   "name": "python3"
  },
  "language_info": {
   "codemirror_mode": {
    "name": "ipython",
    "version": 3
   },
   "file_extension": ".py",
   "mimetype": "text/x-python",
   "name": "python",
   "nbconvert_exporter": "python",
   "pygments_lexer": "ipython3",
   "version": "3.9.12"
  }
 },
 "nbformat": 4,
 "nbformat_minor": 5
}
